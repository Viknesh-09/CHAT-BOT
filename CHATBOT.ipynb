{
  "nbformat": 4,
  "nbformat_minor": 0,
  "metadata": {
    "colab": {
      "provenance": [],
      "authorship_tag": "ABX9TyOTl3cOof7BU7iPZKbz0Qt1",
      "include_colab_link": true
    },
    "kernelspec": {
      "name": "python3",
      "display_name": "Python 3"
    },
    "language_info": {
      "name": "python"
    }
  },
  "cells": [
    {
      "cell_type": "markdown",
      "metadata": {
        "id": "view-in-github",
        "colab_type": "text"
      },
      "source": [
        "<a href=\"https://colab.research.google.com/github/Viknesh-09/CHAT-BOT/blob/main/CHATBOT.ipynb\" target=\"_parent\"><img src=\"https://colab.research.google.com/assets/colab-badge.svg\" alt=\"Open In Colab\"/></a>"
      ]
    },
    {
      "cell_type": "code",
      "execution_count": null,
      "metadata": {
        "id": "4KzU_7FqKCMg"
      },
      "outputs": [],
      "source": [
        "import nltk\n",
        "from nltk.chat.util import Chat, reflections"
      ]
    },
    {
      "cell_type": "code",
      "source": [
        "# Define conversation patterns and responses\n",
        "pairs = [\n",
        "    [\"hi|hello\", [\"Hello!\", \"Hi there!\"]],\n",
        "    [\"how are you\", [\"I'm good, thanks!\", \"I'm doing well.\"]],\n",
        "    [\"bye|goodbye\", [\"Goodbye!\", \"See you later!\"]],\n",
        "\n",
        "    # Add more patterns and responses here\n",
        "]\n"
      ],
      "metadata": {
        "id": "MgXa_serKITn"
      },
      "execution_count": null,
      "outputs": []
    },
    {
      "cell_type": "code",
      "source": [
        "# Create a chatbot instance\n",
        "chatbot = Chat(pairs, reflections)"
      ],
      "metadata": {
        "id": "KiiDfQEOKMsA"
      },
      "execution_count": null,
      "outputs": []
    },
    {
      "cell_type": "code",
      "source": [
        "# Start the conversation\n",
        "print(\"Chatbot: Hello! How can I assist you today? (type 'exit' to end)\")\n",
        "\n"
      ],
      "metadata": {
        "id": "1YbGiQgLKPbs"
      },
      "execution_count": null,
      "outputs": []
    },
    {
      "cell_type": "code",
      "source": [
        "\n",
        "\n",
        "while True:\n",
        "    user_input = input(\"You: \")\n",
        "\n",
        "    if user_input.lower() == 'exit':\n",
        "        break\n",
        "\n",
        "    response = chatbot.respond(user_input)\n",
        "    print(\"Chatbot:\", response)"
      ],
      "metadata": {
        "colab": {
          "base_uri": "https://localhost:8080/"
        },
        "id": "wwqIQRvzKRuB",
        "outputId": "dcf8052b-ee60-4e05-c6e8-e1f32f40b61b"
      },
      "execution_count": null,
      "outputs": [
        {
          "output_type": "stream",
          "name": "stdout",
          "text": [
            "Chatbot: Hello!\n",
            "Chatbot: I'm doing well.\n",
            "Chatbot: See you later!\n",
            "You: bye\n",
            "Chatbot: Goodbye!\n"
          ]
        }
      ]
    }
  ]
}